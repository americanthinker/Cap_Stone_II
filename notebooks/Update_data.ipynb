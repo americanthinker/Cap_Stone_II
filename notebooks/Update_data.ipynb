{
 "cells": [
  {
   "cell_type": "code",
   "execution_count": 1,
   "metadata": {},
   "outputs": [],
   "source": [
    "df = pd.read_csv('data/merged_df_dash.csv')"
   ]
  },
  {
   "cell_type": "code",
   "execution_count": 5,
   "metadata": {},
   "outputs": [
    {
     "data": {
      "text/plain": [
       "Green Beret      189\n",
       "SEAL             148\n",
       "Pilot            113\n",
       "Ranger            60\n",
       "NEOD              48\n",
       "SWCC              44\n",
       "Raider            39\n",
       "Helo Pilot        32\n",
       "PJ                17\n",
       "CCT               12\n",
       "Recon              6\n",
       "PSYOPS             6\n",
       "EOD                2\n",
       "SOWT               2\n",
       "JCU                1\n",
       "Civil Affairs      1\n",
       "Name: Tribe, dtype: int64"
      ]
     },
     "execution_count": 5,
     "metadata": {},
     "output_type": "execute_result"
    }
   ],
   "source": [
    "df.Tribe.value_counts()"
   ]
  },
  {
   "cell_type": "markdown",
   "metadata": {},
   "source": [
    "### Split out Pilot and Helo Pilot Tribes by Branch"
   ]
  },
  {
   "cell_type": "code",
   "execution_count": 7,
   "metadata": {},
   "outputs": [
    {
     "data": {
      "text/plain": [
       "Branch\n",
       "Air Force       28\n",
       "Army             1\n",
       "Coast Guard      1\n",
       "Marine Corps    12\n",
       "Navy            71\n",
       "Name: Id, dtype: int64"
      ]
     },
     "execution_count": 7,
     "metadata": {},
     "output_type": "execute_result"
    }
   ],
   "source": [
    "df[df['Tribe'] == 'Pilot'].groupby('Branch')['Id'].count()"
   ]
  },
  {
   "cell_type": "code",
   "execution_count": 12,
   "metadata": {},
   "outputs": [],
   "source": [
    "def branch_assignment(df, branch, p_type):\n",
    "    navy_inds = df[(df['Branch'] == branch)&(df['Tribe'] == p_type)].index\n",
    "    return navy_inds\n",
    "    "
   ]
  },
  {
   "cell_type": "code",
   "execution_count": 9,
   "metadata": {},
   "outputs": [
    {
     "data": {
      "text/plain": [
       "Int64Index([ 15,  18,  19,  31,  34,  39,  56,  59,  61,  64,  65,  66,  68,\n",
       "             75,  77, 100, 104, 108, 114, 116, 123, 126, 140, 144, 167, 169,\n",
       "            181, 182, 200, 206, 232, 235, 245, 262, 266, 282, 290, 293, 295,\n",
       "            327, 392, 420, 428, 434, 436, 447, 454, 458, 463, 470, 476, 483,\n",
       "            511, 512, 514, 515, 517, 571, 575, 595, 596, 598, 600, 602, 605,\n",
       "            611, 643, 645, 676, 687, 718],\n",
       "           dtype='int64')"
      ]
     },
     "execution_count": 9,
     "metadata": {},
     "output_type": "execute_result"
    }
   ],
   "source": [
    "branch_assignment(df)"
   ]
  },
  {
   "cell_type": "code",
   "execution_count": 15,
   "metadata": {},
   "outputs": [],
   "source": [
    "navy_inds = branch_assignment(df, \"Navy\", \"Pilot\")\n",
    "mc_inds = branch_assignment(df, 'Marine Corps', 'Pilot')\n",
    "afinds = branch_assignment(df, 'Air Force', 'Pilot')\n",
    "armyinds = branch_assignment(df, 'Army', 'Pilot')"
   ]
  },
  {
   "cell_type": "markdown",
   "metadata": {},
   "source": [
    "### Check indices for Pilot values"
   ]
  },
  {
   "cell_type": "code",
   "execution_count": 16,
   "metadata": {},
   "outputs": [
    {
     "data": {
      "text/plain": [
       "(Int64Index([ 15,  18,  19,  31,  34,  39,  56,  59,  61,  64,  65,  66,  68,\n",
       "              75,  77, 100, 104, 108, 114, 116, 123, 126, 140, 144, 167, 169,\n",
       "             181, 182, 200, 206, 232, 235, 245, 262, 266, 282, 290, 293, 295,\n",
       "             327, 392, 420, 428, 434, 436, 447, 454, 458, 463, 470, 476, 483,\n",
       "             511, 512, 514, 515, 517, 571, 575, 595, 596, 598, 600, 602, 605,\n",
       "             611, 643, 645, 676, 687, 718],\n",
       "            dtype='int64'),\n",
       " Int64Index([105, 183, 204, 213, 271, 311, 357, 431, 459, 482, 558, 630], dtype='int64'),\n",
       " Int64Index([ 12,  89,  98, 103, 157, 161, 180, 197, 199, 217, 223, 246, 337,\n",
       "             342, 404, 439, 443, 457, 480, 501, 502, 549, 591, 615, 621, 647,\n",
       "             672, 702],\n",
       "            dtype='int64'),\n",
       " Int64Index([709], dtype='int64'))"
      ]
     },
     "execution_count": 16,
     "metadata": {},
     "output_type": "execute_result"
    }
   ],
   "source": [
    "navy_inds, mc_inds, afinds, armyinds"
   ]
  },
  {
   "cell_type": "code",
   "execution_count": 19,
   "metadata": {},
   "outputs": [],
   "source": [
    "df.loc[navy_inds, 'Tribe'] = 'Pilot (N)'\n",
    "\n",
    "df.loc[mc_inds, 'Tribe'] = 'Pilot (MC)'\n",
    "\n",
    "df.loc[afinds, 'Tribe'] = 'Pilot (AF)'\n",
    "\n",
    "df.loc[armyinds, 'Tribe'] = 'Pilot (A)'"
   ]
  },
  {
   "cell_type": "code",
   "execution_count": 23,
   "metadata": {},
   "outputs": [
    {
     "data": {
      "text/plain": [
       "Green Beret      189\n",
       "SEAL             148\n",
       "Pilot (N)         71\n",
       "Ranger            60\n",
       "NEOD              48\n",
       "SWCC              44\n",
       "Raider            39\n",
       "Helo Pilot        32\n",
       "Pilot (AF)        28\n",
       "PJ                17\n",
       "Pilot (MC)        12\n",
       "CCT               12\n",
       "PSYOPS             6\n",
       "Recon              6\n",
       "EOD                2\n",
       "SOWT               2\n",
       "JCU                1\n",
       "Civil Affairs      1\n",
       "Pilot (A)          1\n",
       "Pilot              1\n",
       "Name: Tribe, dtype: int64"
      ]
     },
     "execution_count": 23,
     "metadata": {},
     "output_type": "execute_result"
    }
   ],
   "source": [
    "df['Tribe'].value_counts()"
   ]
  },
  {
   "cell_type": "code",
   "execution_count": 27,
   "metadata": {},
   "outputs": [],
   "source": [
    "df.loc[690, 'Tribe'] = 'Pilot (CG)'"
   ]
  },
  {
   "cell_type": "code",
   "execution_count": 28,
   "metadata": {},
   "outputs": [
    {
     "data": {
      "text/plain": [
       "Green Beret      189\n",
       "SEAL             148\n",
       "Pilot (N)         71\n",
       "Ranger            60\n",
       "NEOD              48\n",
       "SWCC              44\n",
       "Raider            39\n",
       "Helo Pilot        32\n",
       "Pilot (AF)        28\n",
       "PJ                17\n",
       "Pilot (MC)        12\n",
       "CCT               12\n",
       "PSYOPS             6\n",
       "Recon              6\n",
       "EOD                2\n",
       "SOWT               2\n",
       "Pilot (CG)         1\n",
       "JCU                1\n",
       "Civil Affairs      1\n",
       "Pilot (A)          1\n",
       "Name: Tribe, dtype: int64"
      ]
     },
     "execution_count": 28,
     "metadata": {},
     "output_type": "execute_result"
    }
   ],
   "source": [
    "df.Tribe.value_counts()"
   ]
  },
  {
   "cell_type": "code",
   "execution_count": 29,
   "metadata": {},
   "outputs": [],
   "source": [
    "navy_inds = branch_assignment(df, \"Navy\", \"Helo Pilot\")\n",
    "mc_inds = branch_assignment(df, 'Marine Corps', 'Helo Pilot')\n",
    "afinds = branch_assignment(df, 'Air Force', 'Helo Pilot')\n",
    "armyinds = branch_assignment(df, 'Army', 'Helo Pilot')"
   ]
  },
  {
   "cell_type": "markdown",
   "metadata": {},
   "source": [
    "### CHeck indices for Helo Pilot values"
   ]
  },
  {
   "cell_type": "code",
   "execution_count": 30,
   "metadata": {},
   "outputs": [
    {
     "data": {
      "text/plain": [
       "(Int64Index([526, 599], dtype='int64'),\n",
       " Int64Index([276, 361, 658], dtype='int64'),\n",
       " Int64Index([248], dtype='int64'),\n",
       " Int64Index([ 13,  78, 168, 172, 178, 190, 205, 251, 269, 272, 352, 441, 464,\n",
       "             466, 491, 496, 508, 570, 579, 623, 642, 653, 656, 668, 706, 708],\n",
       "            dtype='int64'))"
      ]
     },
     "execution_count": 30,
     "metadata": {},
     "output_type": "execute_result"
    }
   ],
   "source": [
    "navy_inds, mc_inds, afinds, armyinds"
   ]
  },
  {
   "cell_type": "code",
   "execution_count": 34,
   "metadata": {},
   "outputs": [],
   "source": [
    "df.loc[navy_inds, 'Tribe'] = 'Helo Pilot (N)'\n",
    "\n",
    "df.loc[mc_inds, 'Tribe'] = 'Helo Pilot (MC)'\n",
    "\n",
    "df.loc[afinds, 'Tribe'] = 'Helo Pilot (AF)'\n",
    "\n",
    "df.loc[armyinds, 'Tribe'] = 'Helo Pilot (A)'"
   ]
  },
  {
   "cell_type": "code",
   "execution_count": 36,
   "metadata": {},
   "outputs": [
    {
     "data": {
      "text/plain": [
       "Green Beret        189\n",
       "SEAL               148\n",
       "Pilot (N)           71\n",
       "Ranger              60\n",
       "NEOD                48\n",
       "SWCC                44\n",
       "Raider              39\n",
       "Pilot (AF)          28\n",
       "Helo Pilot (A)      26\n",
       "PJ                  17\n",
       "Pilot (MC)          12\n",
       "CCT                 12\n",
       "PSYOPS               6\n",
       "Recon                6\n",
       "Helo Pilot (MC)      3\n",
       "EOD                  2\n",
       "SOWT                 2\n",
       "Helo Pilot (N)       2\n",
       "Pilot (CG)           1\n",
       "Helo Pilot (AF)      1\n",
       "JCU                  1\n",
       "Civil Affairs        1\n",
       "Pilot (A)            1\n",
       "Name: Tribe, dtype: int64"
      ]
     },
     "execution_count": 36,
     "metadata": {},
     "output_type": "execute_result"
    }
   ],
   "source": [
    "df['Tribe'].value_counts()"
   ]
  },
  {
   "cell_type": "code",
   "execution_count": 41,
   "metadata": {},
   "outputs": [],
   "source": [
    "df.to_csv('data/updated_pilots.csv', index=False)"
   ]
  },
  {
   "cell_type": "code",
   "execution_count": 40,
   "metadata": {},
   "outputs": [
    {
     "name": "stdout",
     "output_type": "stream",
     "text": [
      "merged_df_dash.csv  vets_coords.csv\n"
     ]
    }
   ],
   "source": [
    "ls data"
   ]
  },
  {
   "cell_type": "code",
   "execution_count": null,
   "metadata": {},
   "outputs": [],
   "source": []
  }
 ],
 "metadata": {
  "kernelspec": {
   "display_name": "Python 3",
   "language": "python",
   "name": "python3"
  },
  "language_info": {
   "codemirror_mode": {
    "name": "ipython",
    "version": 3
   },
   "file_extension": ".py",
   "mimetype": "text/x-python",
   "name": "python",
   "nbconvert_exporter": "python",
   "pygments_lexer": "ipython3",
   "version": "3.8.3"
  }
 },
 "nbformat": 4,
 "nbformat_minor": 4
}
